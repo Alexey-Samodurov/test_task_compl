{
 "cells": [
  {
   "cell_type": "code",
   "execution_count": 72,
   "metadata": {},
   "outputs": [
    {
     "name": "stdout",
     "output_type": "stream",
     "text": [
      "(29000, 4)\n",
      "(75766, 3)\n",
      "(13, 3)\n",
      "(3337, 6)\n"
     ]
    }
   ],
   "source": [
    "import pandas as pd\n",
    "from datetime import datetime\n",
    "import gspread\n",
    "from google.auth.transport.requests import AuthorizedSession\n",
    "from oauth2client.service_account import ServiceAccountCredentials\n",
    "\n",
    "\n",
    "def append_df_to_gs(df, spread_sheet:str, sheet_name:str):\n",
    "    scopes = [\n",
    "        'https://spreadsheets.google.com/feeds',\n",
    "        'https://www.googleapis.com/auth/drive',\n",
    "    ]\n",
    "    credentials = ServiceAccountCredentials.from_json_keyfile_name(\n",
    "    r\"C:\\Users\\dames\\Downloads\\pysheets-310318-70d793fa6c89.json\", scope)\n",
    "    gsc = gspread.authorize(credentials)\n",
    "    sheet = gsc.open(spread_sheet)\n",
    "    params = {'valueInputOption': 'USER_ENTERED'}\n",
    "    body = {'values': df.values.tolist()}\n",
    "    sheet.values_append(f'{sheet_name:str}!A1:G1', params, body)\n",
    "    \n",
    "\n",
    "urls = [\n",
    "        'https://docs.google.com/spreadsheets/d/1Ycg7zTxds9DZnDvTrFcyNNKuTUxg6Yy6WF0a8Wc02WQ/edit#gid=1164376473',\n",
    "        'https://docs.google.com/spreadsheets/d/1Ycg7zTxds9DZnDvTrFcyNNKuTUxg6Yy6WF0a8Wc02WQ/edit#gid=1840297911',\n",
    "        'https://docs.google.com/spreadsheets/d/1Ycg7zTxds9DZnDvTrFcyNNKuTUxg6Yy6WF0a8Wc02WQ/edit#gid=897421023',\n",
    "        'https://docs.google.com/spreadsheets/d/1Ycg7zTxds9DZnDvTrFcyNNKuTUxg6Yy6WF0a8Wc02WQ/edit#gid=1167027454',\n",
    "        ]\n",
    "transactions = pd.read_csv(\n",
    "                          urls[0].replace('/edit#gid=', '/export?format=csv&gid='),\n",
    "                          dtype=str\n",
    "                          )\n",
    "print(transactions.shape)\n",
    "clients = pd.read_csv(\n",
    "                      urls[1].replace('/edit#gid=', '/export?format=csv&gid='),\n",
    "                      dtype=str\n",
    "                      )\n",
    "print(clients.shape)\n",
    "managers = pd.read_csv(\n",
    "                      urls[2].replace('/edit#gid=', '/export?format=csv&gid='),\n",
    "                      dtype=str\n",
    "                      )\n",
    "print(managers.shape)\n",
    "leads = pd.read_csv(\n",
    "                   urls[3].replace('/edit#gid=', '/export?format=csv&gid='),\n",
    "                   dtype=str\n",
    "                   )\n",
    "print(leads.shape)"
   ]
  },
  {
   "cell_type": "code",
   "execution_count": 73,
   "metadata": {},
   "outputs": [
    {
     "name": "stdout",
     "output_type": "stream",
     "text": [
      "(3337, 8)\n",
      "(1223, 13)\n",
      "(3337, 11)\n",
      "(3337, 13)\n"
     ]
    }
   ],
   "source": [
    "transactions = pd.DataFrame(transactions.groupby(['transaction_id', \n",
    "                                                  'created_at', \n",
    "                                                  'l_client_id'])['m_real_amount'].sum()).reset_index()\n",
    "merged_clients = leads.merge(clients,\n",
    "                            how='left',\n",
    "                            left_on=['l_manager_id','l_client_id'],\n",
    "                            right_on=['l_manager_id', 'client_id']\n",
    "                            )\n",
    "print(merged_clients.shape)\n",
    "merged_transactions = merged_clients.merge(transactions,\n",
    "                                                    how='left',\n",
    "                                                    left_on=['client_id'],\n",
    "                                                    right_on=['l_client_id'],\n",
    "                                                    indicator=True,\n",
    "                                                    ).query(\"_merge == 'both'\")\n",
    "print(merged_transactions.shape)\n",
    "merged_resuls = merged_clients.merge(merged_transactions[['lead_id',\n",
    "                                                        'transaction_id',\n",
    "                                                        'created_at',\n",
    "                                                        'm_real_amount']],\n",
    "                                     how='left',\n",
    "                                     on='lead_id').drop_duplicates(subset='lead_id', keep='last')\n",
    "print(merged_resuls.shape)\n",
    "merged_resuls = merged_resuls.merge(managers,\n",
    "                                   how='left',\n",
    "                                   left_on='l_manager_id',\n",
    "                                   right_on='manager_id').drop(['manager_id'], axis=1)\n",
    "print(merged_resuls.shape)\n",
    "merged_resuls['trash_lead'] = merged_resuls['l_client_id'] == '00000000-0000-0000-0000-000000000000'\n",
    "merged_resuls['new_lead'] = ((~merged_resuls['l_client_id'].isin(transactions['l_client_id'])) & \n",
    "                                    (transactions['m_real_amount'] == '0'))\n",
    "merged_resuls['count_of_clients_week'] = ((merged_resuls['transaction_id'].notnull()) & \n",
    "                                         (((pd.to_datetime(merged_resuls['created_at_x'])).dt.day - (pd.to_datetime(merged_resuls['created_at'])).dt.day) >= -7))\n",
    "merged_resuls['count_of_clients_new'] = ((merged_resuls['transaction_id'].notnull()) & \n",
    "                                         (((pd.to_datetime(merged_resuls['created_at_x'])).dt.day - (pd.to_datetime(merged_resuls['created_at'])).dt.day) >= 7) &\n",
    "                                         (~merged_resuls['new_lead']))\n",
    "merged_resuls.m_real_amount = merged_resuls[merged_resuls.count_of_clients_new].m_real_amount"
   ]
  },
  {
   "cell_type": "code",
   "execution_count": 74,
   "metadata": {},
   "outputs": [],
   "source": [
    "pivot = pd.pivot_table(merged_resuls,\n",
    "                       index=[\n",
    "                             'd_utm_source',\n",
    "                             'd_club',\n",
    "                             'd_manager',\n",
    "                             ],\n",
    "                       aggfunc={\n",
    "                                'lead_id': 'count',\n",
    "                                'trash_lead': sum,\n",
    "                                'new_lead': sum,\n",
    "                                'count_of_clients_week': sum,\n",
    "                                'count_of_clients_new': sum,\n",
    "                                'm_real_amount': lambda x: x.astype(float).sum(), \n",
    "                               }\n",
    "                       )\n",
    "pivot.to_excel('pivot.xlsx')\n",
    "append_df_to_gs(pivot, 'test_task', 'Sheet1')"
   ]
  },
  {
   "cell_type": "code",
   "execution_count": null,
   "metadata": {},
   "outputs": [],
   "source": []
  }
 ],
 "metadata": {
  "kernelspec": {
   "display_name": "Python 3",
   "language": "python",
   "name": "python3"
  },
  "language_info": {
   "codemirror_mode": {
    "name": "ipython",
    "version": 3
   },
   "file_extension": ".py",
   "mimetype": "text/x-python",
   "name": "python",
   "nbconvert_exporter": "python",
   "pygments_lexer": "ipython3",
   "version": "3.8.5"
  }
 },
 "nbformat": 4,
 "nbformat_minor": 4
}
